{
 "cells": [
  {
   "cell_type": "code",
   "execution_count": 0,
   "metadata": {
    "application/vnd.databricks.v1+cell": {
     "cellMetadata": {},
     "inputWidgets": {},
     "nuid": "ca767692-cf78-4221-adbd-a6e8a42e4fe2",
     "showTitle": false,
     "tableResultSettingsMap": {},
     "title": ""
    }
   },
   "outputs": [],
   "source": [
    "--pre setup\n",
    "use catalog `pricing-analytics`;\n",
    "create schema if not exists `pricing-analytics`.`processrunlogs`;\n",
    "create table if not exists `pricing-analytics`.`processrunlogs`.`deltalakehouse_process_runs` (\n",
    "  `process_name` string,\n",
    "  `processed_file_table_date` date,\n",
    "  `process_status` string\n",
    ")"
   ]
  }
 ],
 "metadata": {
  "application/vnd.databricks.v1+notebook": {
   "computePreferences": null,
   "dashboards": [],
   "environmentMetadata": null,
   "inputWidgetPreferences": null,
   "language": "sql",
   "notebookMetadata": {
    "pythonIndentUnit": 4,
    "sqlQueryOptions": {
     "applyAutoLimit": true,
     "catalog": "pricing-analytics",
     "schema": "processrunlogs"
    }
   },
   "notebookName": "ingestion-pre-setup.sql.dbquery.ipynb",
   "widgets": {}
  },
  "language_info": {
   "name": "sql"
  }
 },
 "nbformat": 4,
 "nbformat_minor": 0
}
