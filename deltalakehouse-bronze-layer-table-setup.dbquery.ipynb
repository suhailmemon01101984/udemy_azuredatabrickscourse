{
 "cells": [
  {
   "cell_type": "code",
   "execution_count": 0,
   "metadata": {
    "application/vnd.databricks.v1+cell": {
     "cellMetadata": {
      "byteLimit": 10485760,
      "rowLimit": 1000
     },
     "inputWidgets": {},
     "nuid": "5a9ffeb4-25b9-4c39-b0dc-0a8a6c21d10b",
     "showTitle": false,
     "tableResultSettingsMap": {},
     "title": ""
    }
   },
   "outputs": [],
   "source": [
    "use catalog `pricing-analytics`;\n",
    "\n",
    "create schema if not exists `bronze`;\n",
    "\n",
    "--drop table `pricing-analytics`.`bronze`.`daily_pricing`;\n",
    "\n",
    "create table `pricing-analytics`.`bronze`.`daily_pricing`\n",
    "(\n",
    "DATE_OF_PRICING\tstring,\n",
    "ROW_ID\tstring,\n",
    "STATE_NAME\tstring,\n",
    "MARKET_NAME\tstring,\n",
    "PRODUCTGROUP_NAME\tstring,\n",
    "PRODUCT_NAME\tstring,\n",
    "VARIETY\tstring,\n",
    "ORIGIN\tstring,\n",
    "ARRIVAL_IN_TONNES\tstring,\n",
    "MINIMUM_PRICE\tstring,\n",
    "MAXIMUM_PRICE\tstring,\n",
    "MODAL_PRICE\tstring,\n",
    "source_file_load_date string\n",
    ")\n",
    "using csv\n",
    "options (header=\"true\",delimiter=\",\")\n",
    "location \"abfss://bronze-dev@dbrkcrse20251storagedev.dfs.core.windows.net/daily-pricing\"\n",
    ";\n",
    "\n",
    "\n",
    "select * from `pricing-analytics`.`bronze`.`daily_pricing` limit 10;\n"
   ]
  }
 ],
 "metadata": {
  "application/vnd.databricks.v1+notebook": {
   "computePreferences": null,
   "dashboards": [],
   "environmentMetadata": null,
   "inputWidgetPreferences": null,
   "language": "sql",
   "notebookMetadata": {
    "pythonIndentUnit": 4,
    "sqlQueryOptions": {
     "applyAutoLimit": true,
     "catalog": "databricks_dev",
     "schema": "default"
    }
   },
   "notebookName": "deltalakehouse-bronze-layer-table-setup.dbquery.ipynb",
   "widgets": {}
  },
  "language_info": {
   "name": "sql"
  }
 },
 "nbformat": 4,
 "nbformat_minor": 0
}
