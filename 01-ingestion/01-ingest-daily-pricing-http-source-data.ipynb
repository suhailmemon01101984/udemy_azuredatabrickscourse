{
 "cells": [
  {
   "cell_type": "code",
   "execution_count": 0,
   "metadata": {
    "application/vnd.databricks.v1+cell": {
     "cellMetadata": {
      "byteLimit": 2048000,
      "rowLimit": 10000
     },
     "inputWidgets": {},
     "nuid": "2a10ff8d-9178-4ad2-96ae-76058cbf7b26",
     "showTitle": false,
     "tableResultSettingsMap": {},
     "title": ""
    }
   },
   "outputs": [],
   "source": [
    "dbutils.widgets.text('prm-processName','')\n",
    "#print(dbutils.widgets.get('prm-processName'))\n",
    "processName=dbutils.widgets.get('prm-processName')\n",
    "\n",
    "nextSourceFileDateSql=f\"select max(processed_file_table_date)+1 as next_source_file_date from `pricing-analytics`.`processrunlogs`.`deltalakehouse_process_runs` where process_name='{processName}' and process_status='completed'\"\n",
    "\n",
    "#print(nextSourceFileDateSql)\n",
    "\n",
    "nextSourceFileDateDF=spark.sql(nextSourceFileDateSql)\n",
    "\n",
    "nextSourceFileDate=nextSourceFileDateDF.select('next_source_file_date').collect()[0]['next_source_file_date']\n",
    "\n",
    "#print(nextSourceFileDate)"
   ]
  },
  {
   "cell_type": "code",
   "execution_count": 0,
   "metadata": {
    "application/vnd.databricks.v1+cell": {
     "cellMetadata": {
      "byteLimit": 2048000,
      "rowLimit": 10000
     },
     "inputWidgets": {},
     "nuid": "7466d4b8-41b7-4ee1-b0c1-7280f90edde7",
     "showTitle": false,
     "tableResultSettingsMap": {},
     "title": ""
    }
   },
   "outputs": [],
   "source": [
    "from datetime import datetime\n",
    "#dbutils.widgets.text('prm-dailyPricingSourceFileDate','')\n",
    "#print(datetime.strptime(dbutils.widgets.get('prm-dailyPricingSourceFileDate'),'%Y-%m-%d').strftime('%d%m%Y'))"
   ]
  },
  {
   "cell_type": "code",
   "execution_count": 0,
   "metadata": {
    "application/vnd.databricks.v1+cell": {
     "cellMetadata": {
      "byteLimit": 2048000,
      "rowLimit": 10000
     },
     "inputWidgets": {},
     "nuid": "ae2cfdbc-1d4f-42b9-9f21-22f0cc80088d",
     "showTitle": false,
     "tableResultSettingsMap": {},
     "title": ""
    }
   },
   "outputs": [],
   "source": [
    "#sourceFileURL='https://retailpricing.blob.core.windows.net/labs/lab1/PW_MW_DR_01012023.csv'\n",
    "#bronzeLayerCSVFilePath='abfss://working-labs-dev@dbrkcrse20251storagedev.dfs.core.windows.net/bronze-dev/daily-pricing/csv'"
   ]
  },
  {
   "cell_type": "code",
   "execution_count": 0,
   "metadata": {
    "application/vnd.databricks.v1+cell": {
     "cellMetadata": {
      "byteLimit": 2048000,
      "rowLimit": 10000
     },
     "inputWidgets": {},
     "nuid": "9e54d8e4-a9a2-4761-8509-c851a2423954",
     "showTitle": false,
     "tableResultSettingsMap": {},
     "title": ""
    }
   },
   "outputs": [],
   "source": [
    "dailyPricingSourceBaseURL='https://retailpricing.blob.core.windows.net/'\n",
    "dailyPricingSourceFolder='daily-pricing/'\n",
    "#dailyPricingSourceFileDate=datetime.strptime(dbutils.widgets.get('prm-dailyPricingSourceFileDate'),'%Y-%m-%d').strftime('%d%m%Y')\n",
    "dailyPricingSourceFileDate=datetime.strftime(nextSourceFileDate,'%d%m%Y')\n",
    "dailyPricingSourceFile=f'PW_MW_DR_{dailyPricingSourceFileDate}.csv'\n",
    "\n",
    "dailyPricingSinkLayer='bronze-dev'\n",
    "dailyPricingSinkStorageAccount='dbrkcrse20251storagedev'\n",
    "dailyPricingSinkFolder='daily-pricing'\n",
    "\n",
    "#print(dailyPricingSourceFile)"
   ]
  },
  {
   "cell_type": "code",
   "execution_count": 0,
   "metadata": {
    "application/vnd.databricks.v1+cell": {
     "cellMetadata": {
      "byteLimit": 2048000,
      "rowLimit": 10000
     },
     "inputWidgets": {},
     "nuid": "bc8a8cbc-c17d-4bf8-8ffc-8e25d6f9395e",
     "showTitle": false,
     "tableResultSettingsMap": {},
     "title": ""
    }
   },
   "outputs": [],
   "source": [
    "import pandas as pds"
   ]
  },
  {
   "cell_type": "code",
   "execution_count": 0,
   "metadata": {
    "application/vnd.databricks.v1+cell": {
     "cellMetadata": {
      "byteLimit": 2048000,
      "rowLimit": 10000
     },
     "inputWidgets": {},
     "nuid": "4c7afbc5-e819-49c7-9e01-d28d9bb755cb",
     "showTitle": false,
     "tableResultSettingsMap": {},
     "title": ""
    }
   },
   "outputs": [],
   "source": [
    "dailyPricingSourceURL=dailyPricingSourceBaseURL+dailyPricingSourceFolder+dailyPricingSourceFile\n",
    "#print(dailyPricingSourceURL)\n"
   ]
  },
  {
   "cell_type": "code",
   "execution_count": 0,
   "metadata": {
    "application/vnd.databricks.v1+cell": {
     "cellMetadata": {
      "byteLimit": 2048000,
      "rowLimit": 10000
     },
     "inputWidgets": {},
     "nuid": "2f405495-2f4c-4d70-9d2b-85b497a7a8f5",
     "showTitle": false,
     "tableResultSettingsMap": {},
     "title": ""
    }
   },
   "outputs": [],
   "source": [
    "dailyPricingPandasDF=pds.read_csv(dailyPricingSourceURL)"
   ]
  },
  {
   "cell_type": "code",
   "execution_count": 0,
   "metadata": {
    "application/vnd.databricks.v1+cell": {
     "cellMetadata": {
      "byteLimit": 2048000,
      "rowLimit": 10000
     },
     "inputWidgets": {},
     "nuid": "0a7ff245-5e15-42c1-a16d-e65a8d83855f",
     "showTitle": false,
     "tableResultSettingsMap": {},
     "title": ""
    }
   },
   "outputs": [],
   "source": [
    "dailyPricingSparkDF=spark.createDataFrame(dailyPricingPandasDF)\n",
    "#display(dailyPricingSparkDF)"
   ]
  },
  {
   "cell_type": "code",
   "execution_count": 0,
   "metadata": {
    "application/vnd.databricks.v1+cell": {
     "cellMetadata": {
      "byteLimit": 2048000,
      "rowLimit": 10000
     },
     "inputWidgets": {},
     "nuid": "15f6c161-9892-4dc1-a6dc-11578f7ef0d0",
     "showTitle": false,
     "tableResultSettingsMap": {},
     "title": ""
    }
   },
   "outputs": [],
   "source": [
    "from pyspark.sql import functions as func\n",
    "\n",
    "dailyPricingSinkFolderPath=f'abfs://{dailyPricingSinkLayer}@{dailyPricingSinkStorageAccount}.dfs.core.windows.net/{dailyPricingSinkFolder}'\n",
    "print(dailyPricingSinkFolderPath)"
   ]
  },
  {
   "cell_type": "code",
   "execution_count": 0,
   "metadata": {
    "application/vnd.databricks.v1+cell": {
     "cellMetadata": {
      "byteLimit": 2048000,
      "rowLimit": 10000
     },
     "inputWidgets": {},
     "nuid": "3c184de7-5cf9-4aee-9132-e1649f3fe8c7",
     "showTitle": false,
     "tableResultSettingsMap": {},
     "title": ""
    }
   },
   "outputs": [],
   "source": [
    "dailyPricingSparkDF.withColumn(\"source_file_load_date\",func.current_timestamp()).write.mode('append').option('header','true').csv(dailyPricingSinkFolderPath)\n"
   ]
  },
  {
   "cell_type": "code",
   "execution_count": 0,
   "metadata": {
    "application/vnd.databricks.v1+cell": {
     "cellMetadata": {
      "byteLimit": 2048000,
      "rowLimit": 10000
     },
     "inputWidgets": {},
     "nuid": "90c99636-9a59-4e37-bbc9-d7988afdec06",
     "showTitle": false,
     "tableResultSettingsMap": {},
     "title": ""
    }
   },
   "outputs": [],
   "source": [
    "processStatus='completed'\n",
    "\n",
    "processInsertSQL=f\"insert into `pricing-analytics`.`processrunlogs`.`deltalakehouse_process_runs` values ('{processName}','{nextSourceFileDate}','{processStatus}')\"\n",
    "\n",
    "spark.sql(processInsertSQL)\n",
    "\n"
   ]
  },
  {
   "cell_type": "code",
   "execution_count": 0,
   "metadata": {
    "application/vnd.databricks.v1+cell": {
     "cellMetadata": {
      "byteLimit": 2048000,
      "implicitDf": true,
      "rowLimit": 10000
     },
     "inputWidgets": {},
     "nuid": "502c463a-ec83-46d1-875a-f4be214bc2c0",
     "showTitle": false,
     "tableResultSettingsMap": {},
     "title": ""
    }
   },
   "outputs": [],
   "source": [
    "%sql\n",
    "--select * from `pricing-analytics`.`processrunlogs`.`deltalakehouse_process_runs`"
   ]
  },
  {
   "cell_type": "code",
   "execution_count": 0,
   "metadata": {
    "application/vnd.databricks.v1+cell": {
     "cellMetadata": {
      "byteLimit": 2048000,
      "implicitDf": true,
      "rowLimit": 10000
     },
     "inputWidgets": {},
     "nuid": "5efc07d9-eae9-421d-816f-14fae0cee4b3",
     "showTitle": false,
     "tableResultSettingsMap": {},
     "title": ""
    }
   },
   "outputs": [],
   "source": [
    "%sql\n",
    "-- select max(processed_file_table_date)+1 as next_source_file_date from `pricing-analytics`.`processrunlogs`.`deltalakehouse_process_runs`\n",
    "-- where process_name='dailyPricingSourceIngest' and process_status='completed'"
   ]
  },
  {
   "cell_type": "code",
   "execution_count": 0,
   "metadata": {
    "application/vnd.databricks.v1+cell": {
     "cellMetadata": {
      "byteLimit": 2048000,
      "rowLimit": 10000
     },
     "inputWidgets": {},
     "nuid": "87cfd1b8-d6f0-44a2-a4b2-4db4254ede67",
     "showTitle": false,
     "tableResultSettingsMap": {},
     "title": ""
    }
   },
   "outputs": [],
   "source": [
    "# dbutils.fs.ls('abfs://bronze-dev@dbrkcrse20251storagedev.dfs.core.windows.net/daily-pricing')\n",
    "# dbutils.fs.rm('abfs://bronze-dev@dbrkcrse20251storagedev.dfs.core.windows.net/daily-pricing', recurse=True)"
   ]
  },
  {
   "cell_type": "code",
   "execution_count": 0,
   "metadata": {
    "application/vnd.databricks.v1+cell": {
     "cellMetadata": {
      "byteLimit": 2048000,
      "implicitDf": true,
      "rowLimit": 10000
     },
     "inputWidgets": {},
     "nuid": "c3e716a0-c077-4b92-a0ab-70eb34c21616",
     "showTitle": false,
     "tableResultSettingsMap": {},
     "title": ""
    }
   },
   "outputs": [],
   "source": [
    "%sql\n",
    "-- truncate table `pricing-analytics`.`processrunlogs`.`deltalakehouse_process_runs`;\n",
    "-- insert into `pricing-analytics`.`processrunlogs`.`deltalakehouse_process_runs` values('dailyPricingSourceIngest','2022-12-31','completed');\n",
    "-- select * from `pricing-analytics`.`processrunlogs`.`deltalakehouse_process_runs`;"
   ]
  }
 ],
 "metadata": {
  "application/vnd.databricks.v1+notebook": {
   "computePreferences": null,
   "dashboards": [],
   "environmentMetadata": {
    "base_environment": "",
    "environment_version": "4"
   },
   "inputWidgetPreferences": null,
   "language": "python",
   "notebookMetadata": {
    "mostRecentlyExecutedCommandWithImplicitDF": {
     "commandId": 4985205984764020,
     "dataframes": [
      "_sqldf"
     ]
    },
    "pythonIndentUnit": 4
   },
   "notebookName": "01-ingest-daily-pricing-http-source-data",
   "widgets": {
    "prm-processName": {
     "currentValue": "dailyPricingSourceIngest",
     "nuid": "f52ad8ab-88df-4bd1-9a0b-fbb863aaa60a",
     "typedWidgetInfo": {
      "autoCreated": false,
      "defaultValue": "",
      "label": null,
      "name": "prm-processName",
      "options": {
       "widgetDisplayType": "Text",
       "validationRegex": null
      },
      "parameterDataType": "String"
     },
     "widgetInfo": {
      "widgetType": "text",
      "defaultValue": "",
      "label": null,
      "name": "prm-processName",
      "options": {
       "widgetType": "text",
       "autoCreated": null,
       "validationRegex": null
      }
     }
    }
   }
  },
  "language_info": {
   "name": "python"
  }
 },
 "nbformat": 4,
 "nbformat_minor": 0
}
